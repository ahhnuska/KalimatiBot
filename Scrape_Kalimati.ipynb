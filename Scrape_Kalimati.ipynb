{
  "cells": [
    {
      "cell_type": "code",
      "execution_count": 1,
      "metadata": {
        "id": "cqcMfsMX7Sjr"
      },
      "outputs": [],
      "source": [
        "import requests\n",
        "from bs4 import BeautifulSoup\n"
      ]
    },
    {
      "cell_type": "code",
      "execution_count": 2,
      "metadata": {
        "id": "o55AJlq87bNg"
      },
      "outputs": [],
      "source": [
        "url='https://kalimatimarket.gov.np/'\n",
        "\n",
        "\n",
        "\n"
      ]
    },
    {
      "cell_type": "code",
      "execution_count": 3,
      "metadata": {
        "id": "Zdb_-4v4AXV2"
      },
      "outputs": [],
      "source": [
        "\n",
        "cookies = {\n",
        "    'TawkConnectionTime': '0',\n",
        "    'XSRF-TOKEN': 'eyJpdiI6IlRnOUJkWnU4eWVMdWVGamo4SEpwU2c9PSIsInZhbHVlIjoiRk5aL0d0NzArYmFCblhDOXNoaW82Nk1hQm8xR0ptZ0JtVmpqZGVXR2dhNmZvbUdPTlBsS2J5VDBSYTZ4V1J6ZVdpeGVScUtDMWE5V1Jpazk2enVvVFZ4dW04S04yMzJRRmZVZVJrUTI3SEZiamE5YmNXTi9HV2gvMlEyNXY2VkEiLCJtYWMiOiIyOWMzNDA3NjM1NGUwNTU3NmI2YzcyMzYzODQwZTcxMzEyYmI3MDFiZGRlY2FhYjgyOTYyMWM0NmUzZTFhYzNkIiwidGFnIjoiIn0%3D',\n",
        "    'kalimati_fruits_and_vegetable_market_development_board_session': 'eyJpdiI6Ing5bnMyMlVGQ3ExdjUxc1hyNXVCMUE9PSIsInZhbHVlIjoiTmNjanpOZDQ3czQxUTRxcEcxa1p0MTU0MFJlM2tqeHhVNmQrbE1HQzFlYkhVZ0FFbEZYZmliSldPTEpZbHAveURNaEI4WTZRREhtdnlIdXhQVDM1Mmp5Nmw3anBjN0xjK01HNGlnYVVuUHlkSjlZNHBOejlvd2VaUVdSaVBvR2EiLCJtYWMiOiIzODJjZjBlMDJiNmQ0MTM4OGUyMTI4MWNkMzJiOGRhMDBlZDQyYzdjOGZhNDNmOGUxMDNlZDkwMWU3ZjViMDdmIiwidGFnIjoiIn0%3D',\n",
        "    'twk_idm_key': '7sq0BHLaNgexpc6n8j0pi'\n",
        "}\n",
        "\n",
        "# Make a request to the page with cookies\n",
        "response = requests.get(url, cookies=cookies)"
      ]
    },
    {
      "cell_type": "code",
      "execution_count": 4,
      "metadata": {
        "id": "_fv0ZDYD7mNS"
      },
      "outputs": [],
      "source": [
        "soup = BeautifulSoup(response.content,'html.parser')"
      ]
    },
    {
      "cell_type": "code",
      "execution_count": 5,
      "metadata": {
        "colab": {
          "base_uri": "https://localhost:8080/"
        },
        "id": "v_mcWLaV7uNu",
        "outputId": "20687f7d-8669-406b-e5d2-513b20ad67d9"
      },
      "outputs": [
        {
          "data": {
            "text/plain": [
              "<!DOCTYPE html>\n",
              "<html lang=\"np\"><head><meta charset=\"utf-8\"/><meta content=\"width=device-width, initial-scale=1\" name=\"viewport\"/><title>कालीमाटी फलफूल तथा तरकारी बजार विकास समिति : सन् १९९५ देखि नेपाली उपभोक्ता हितमा बजार नियमन गरिराखिएको छ</title><meta content=\"सन् १९९५ देखि नेपाली उपभोक्ता हितमा बजार नियमन गरिराखिएको छ\" name=\"description\"/><meta content=\"Nobel Dahal(@coderkoala)\" name=\"author\"/><link href=\"/css/frontend.css?id=eb50b79accd79ece2677f3ce78f10f25\" rel=\"stylesheet\"/> <script async=\"\" defer=\"\" src=\"https://www.googletagmanager.com/gtag/js?id=G-L5VW285Y3D\"></script> <script defer=\"\">window.dataLayer=window.dataLayer||[];function gtag(){dataLayer.push(arguments);}\n",
              "gtag('js',new Date());gtag('config','UA-231777614-1');</script> <script defer=\"\" type=\"text/javascript\">var Tawk_API=Tawk_API||{},Tawk_LoadStart=new Date();(function(){var s1=document.createElement(\"script\"),s0=document.getElementsByTagName(\"script\")[0];s1.async=true;s1.src='https://embed.tawk.to/62b413377b967b11799613cd/1g67mm4nj';s1.charset='UTF-8';s1.setAttribute('crossorigin','*');s0.parentNode.insertBefore(s1,s0);})();</script> </head><body>\n",
              "<a class=\"scrollToTop\" href=\"javascript:void(0)\" id=\"scrollToTop\" title=\"Go to top\">\n",
              "<i class=\"fa fa-angle-up\"></i>\n",
              "</a><div id=\"preloader\"></div><header class=\"web__navbar\"><div class=\"ui container d-none d-lg-block\"><div class=\"navbar__top\"><a class=\"navbar-brand\" href=\"/\"><img alt=\"MOAD\" class=\"ui small image\" src=\"https://kalimatimarket.gov.np/images/gov_insignia.svg\"/></a><div class=\"site__meta\">\n",
              "<span>नेपाल सरकार<br/>कृषि तथा पशुपन्छी विकास मन्त्रालय</span><h1>कालीमाटी फलफूल तथा तरकारी बजार विकास समिति</h1></div><div class=\"navbar__right\"><div style=\"display: flex; height: 73px; align-items: center;\"><img alt=\"Nepal Flag\" class=\"ui image flag\" src=\"https://kalimatimarket.gov.np/img/logo.png\"/></div></div></div></div><div class=\"theme-mobile-menu d-lg-none top-head\"><div class=\"mobile-logo\">\n",
              "<a href=\"https://kalimatimarket.gov.np\">\n",
              "<img alt=\"कालीमाटी फलफूल तथा तरकारी बजार विकास समिति\" src=\"https://kalimatimarket.gov.np/img/logo.png\" style=\"height:60px\"/> <strong style=\"color:white;\">कालीमाटी बजार विकास समिति</strong>\n",
              "</a></div><div class=\"menu-toggle hamburger-menu\"><div class=\"top-bun\"></div><div class=\"meat\"></div><div class=\"bottom-bun\"></div></div><div class=\"mobile-menu\" id=\"mobile-m\">\n",
              "<span class=\"close-menu\">\n",
              "<i class=\"fa fa-times\"></i>\n",
              "</span></div></div><div class=\"bottom-head d-none d-lg-block\"><div class=\"container clearfix\"><div class=\"theme-menu\"><nav class=\"menubar\"><ul class=\"menu-wrap clearfix\"><li class=\"menu-item\">\n",
              "<a class=\"menu-link\" href=\"https://kalimatimarket.gov.np\">गृहपृष्ठ</a></li><li class=\"menu-item has-sub\">\n",
              "<a class=\"menu-link\" href=\"javascript:void(0)\">हाम्रो बारेमा</a><ul class=\"dropdown\"><li class=\"dropdown-item\">\n",
              "<a class=\"menu-link\" href=\"https://kalimatimarket.gov.np/about\">हाम्रो बारेमा</a></li><li class=\"dropdown-item\">\n",
              "<a class=\"menu-link\" href=\"https://kalimatimarket.gov.np/pages/composition-of-the-board\">समितिको संरचना</a></li><li class=\"dropdown-item\">\n",
              "<a class=\"menu-link\" href=\"https://kalimatimarket.gov.np/pages/about-us\">बिकासक्रम</a></li><li class=\"dropdown-item\">\n",
              "<a class=\"menu-link\" href=\"https://kalimatimarket.gov.np/pages/duties-and-functions\">काम र कर्तव्यहरु</a></li><li class=\"dropdown-item\">\n",
              "<a class=\"menu-link\" href=\"https://kalimatimarket.gov.np/pages/staff-information\">कर्मचारी विवरण</a></li><li class=\"dropdown-item\">\n",
              "<a class=\"menu-link\" href=\"https://kalimatimarket.gov.np/pages/rules-and-regulation\">आदेश, नियमावली तथा कार्यबिधि निर्देशिका</a></li></ul></li><li class=\"menu-item has-sub\">\n",
              "<a class=\"menu-link\" href=\"javascript:void(0)\">बजार सूचना</a><ul class=\"dropdown\"><li class=\"dropdown-item\">\n",
              "<a class=\"menu-link\" href=\"https://kalimatimarket.gov.np/price\">दैनिक मुल्य</a></li><li class=\"dropdown-item\">\n",
              "<a class=\"menu-link\" href=\"https://kalimatimarket.gov.np/daily-arrivals\">दैनिक आगमन</a></li><li class=\"dropdown-item\">\n",
              "<a class=\"menu-link\" href=\"https://kalimatimarket.gov.np/price-history\">मुल्य प्रवृति</a></li><li class=\"dropdown-item\">\n",
              "<a class=\"menu-link\" href=\"https://kalimatimarket.gov.np/arrival-history\">आगमन प्रवृति</a></li><li class=\"dropdown-item\">\n",
              "<a class=\"menu-link\" href=\"https://kalimatimarket.gov.np/comparative-prices\">तुलनात्मक मुल्य</a></li><li class=\"dropdown-item\">\n",
              "<a class=\"menu-link\" href=\"https://kalimatimarket.gov.np/arrival-comparision\">तुलनात्मक आगमन</a></li></ul></li><li class=\"menu-item has-sub\">\n",
              "<a class=\"menu-link\" href=\"javascript:void(0)\">व्यवसायी जानकारी</a><ul class=\"dropdown\"><li class=\"dropdown-item\">\n",
              "<a class=\"menu-link\" href=\"https://kalimatimarket.gov.np/dues\">व्यवसायी बक्यौता</a></li><li class=\"dropdown-item\">\n",
              "<a class=\"menu-link\" href=\"https://kalimatimarket.gov.np/notices/traders\">व्यवसायी सूचना</a></li><li class=\"dropdown-item\">\n",
              "<a class=\"menu-link\" href=\"#\" id=\"traderDB\">व्यवसायी विवरण</a> <script defer=\"\">document.getElementById('traderDB').addEventListener('click',function(){Swal.fire({icon:'info',title:'डाटा उपलब्ध छैन',html:'अहिलेसम्म डाटा उपलब्ध गराइएको छैन, कृपया पछि फेरि जाँच गर्नुहोस्।',confirmButtonText:'ठिक छ'});});</script> </li></ul></li><li class=\"menu-item has-sub\">\n",
              "<a class=\"menu-link\" href=\"javascript:void(0)\">सूचना केन्द्र</a><ul class=\"dropdown\"><li class=\"dropdown-item\">\n",
              "<a href=\"https://kalimatimarket.gov.np/notices/notice\">सूचनाहरू</a></li><li class=\"dropdown-item\">\n",
              "<a href=\"https://kalimatimarket.gov.np/notices/tender\">बोलपत्र आह्वान</a></li><li class=\"dropdown-item\">\n",
              "<a href=\"https://kalimatimarket.gov.np/notices/bill_publication\">सार्वजनिक बिलहरू</a></li><li class=\"dropdown-item\">\n",
              "<a href=\"https://kalimatimarket.gov.np/notices/annual\">रिपोर्टहरू</a></li><li class=\"dropdown-item\">\n",
              "<a href=\"https://kalimatimarket.gov.np/notices/pest\">विषादी अवशेष रिपोर्ट</a></li><li class=\"dropdown-item\">\n",
              "<a href=\"https://kalimatimarket.gov.np/notices/publication\">प्रकाशनहरू</a></li></ul></li><li class=\"menu-item\">\n",
              "<a class=\"menu-link\" href=\"https://kalimatimarket.gov.np/contact\">सम्पर्क गर्नुहोस्</a></li><li class=\"menu-item has-sub\">\n",
              "<a class=\"menu-link\" href=\"javascript:void(0)\"><img height=\"15\" src=\"https://kalimatimarket.gov.np/img/np.svg\" width=\"15\"/></a><ul class=\"dropdown\"><div class=\"dropdown-item\">\n",
              "<a class=\"\" href=\"https://kalimatimarket.gov.np/lang/en\"><img height=\"15\" src=\"https://kalimatimarket.gov.np/img/en.svg\" width=\"15\"/></a></div></ul></li></ul></nav></div></div></div></header><div id=\"app\"><div class=\"marquee\" style=\"width: 100%;overflow: hidden;color:black;background:white;line-height:1.5;font-size:18px!important;\"><p>थोक मुल्य जानकारीको लागि <a href=\"tel:1618070766666\">१६१८०७०७६६६६६</a> | थोक मुल्य जानकारीको लागि <a href=\"tel:1618070766666\">१६१८०७०७६६६६६</a> | थोक मुल्य जानकारीको लागि <a href=\"tel:1618070766666\">१६१८०७०७६६६६६</a> | थोक मुल्य जानकारीको लागि <a href=\"tel:1618070766666\">१६१८०७०७६६६६६</a> | थोक मुल्य जानकारीको लागि <a href=\"tel:1618070766666\">१६१८०७०७६६६६६</a> | थोक मुल्य जानकारीको लागि <a href=\"tel:1618070766666\">१६१८०७०७६६६६६</a> | थोक मुल्य जानकारीको लागि <a href=\"tel:1618070766666\">१६१८०७०७६६६६६</a> | थोक मुल्य जानकारीको लागि <a href=\"tel:1618070766666\">१६१८०७०७६६६६६</a> | थोक मुल्य जानकारीको लागि <a href=\"tel:1618070766666\">१६१८०७०७६६६६६</a> | थोक मुल्य जानकारीको लागि <a href=\"tel:1618070766666\">१६१८०७०७६६६६६</a> | थोक मुल्य जानकारीको लागि <a href=\"tel:1618070766666\">१६१८०७०७६६६६६</a> | थोक मुल्य जानकारीको लागि <a href=\"tel:1618070766666\">१६१८०७०७६६६६६</a> | थोक मुल्य जानकारीको लागि <a href=\"tel:1618070766666\">१६१८०७०७६६६६६</a></p></div><main><section class=\"top-slider pt-1\"><div class=\"container-fluid\"><div class=\"row row-eq-height\"><div class=\"col-lg-9 col-md-9 col-sm-12\"><section class=\"top-slider\"><div class=\"theme-slider main-slider owl-carousel owl-theme\" data-autoplay=\"true\" data-dots=\"true\" data-items=\"1\" data-loop=\"true\" data-nav=\"true\" data-pause-on-hover=\"true\" data-r-large=\"1\" data-r-large-dots=\"true\" data-r-large-nav=\"true\" data-r-medium=\"1\" data-r-medium-dots=\"true\" data-r-medium-nav=\"true\" data-r-small=\"1\" data-r-small-dots=\"true\" data-r-small-nav=\"false\" data-r-x-medium=\"1\" data-r-x-medium-dots=\"true\" data-r-x-medium-nav=\"false\" data-r-x-small=\"1\" data-r-x-small-dots=\"true\" data-r-x-small-nav=\"false\"><div class=\"item\">\n",
              "<img alt=\"slide\" class=\"img-owl\" src=\"https://kalimatimarket.gov.np/img/slide1.jpg\"/></div><div class=\"item\">\n",
              "<img alt=\"slide\" class=\"img-owl\" src=\"https://kalimatimarket.gov.np/img/slide2.jpg\"/></div><div class=\"item\">\n",
              "<img alt=\"slide\" class=\"img-owl\" src=\"https://kalimatimarket.gov.np/img/slide3.jpg\"/></div></div></section></div><div class=\"col-md-3 col-sm-12 col-xs-12 side-team\"><div class=\"team-sidenav\">\n",
              "<img alt=\"अध्यक्ष\" src=\"https://kalimatimarket.gov.np/storage/photos/shares/madan.png\"/><div>\n",
              "<span>मदन भुजेल</span>\n",
              "अध्यक्ष<ul class=\"social social-header\"><li>\n",
              "<a class=\"link-blue\" href=\"mailto:kalimatimarket@gmail.com\">\n",
              "<i class=\"fas fa-envelope\"></i>\n",
              "</a></li><li>\n",
              "<a class=\"link-blue\" href=\"tel:+977015123086\">\n",
              "<i class=\"fas fa-phone\"></i>\n",
              "</a></li></ul></div></div><div class=\"team-sidenav\">\n",
              "<img alt=\"कार्यकारी निर्देशक\" src=\"https://kalimatimarket.gov.np/storage/photos/shares/mahadev.png\"/><div>\n",
              "<span>डा. महादेब प्रसाद पौडेल</span>\n",
              "कार्यकारी निर्देशक<ul class=\"social social-header\"><li>\n",
              "<a class=\"link-blue\" href=\"mailto:@gmail.com\">\n",
              "<i class=\"fas fa-envelope\"></i>\n",
              "</a></li><li>\n",
              "<a class=\"link-blue\" href=\"tel:+977015123086\">\n",
              "<i class=\"fas fa-phone\"></i>\n",
              "</a></li></ul></div></div><div class=\"team-sidenav\">\n",
              "<img alt=\"सूचना अधिकारी\" src=\"https://kmdb.info.np/storage/photos/shares/deputy.jpg\"/><div>\n",
              "<span>विनय श्रेष्ठ</span>\n",
              "सूचना अधिकारी<ul class=\"social social-header\"><li>\n",
              "<a class=\"link-blue\" href=\"mailto:binayasth@gmail.com\">\n",
              "<i class=\"fas fa-envelope\"></i>\n",
              "</a></li><li>\n",
              "<a class=\"link-blue\" href=\"tel:+9779843137765\">\n",
              "<i class=\"fas fa-phone\"></i>\n",
              "</a></li></ul></div></div></div></div></div></section></main></div><section class=\"grow-business mb-5\"><div class=\"container\"><div class=\"row\"><div class=\"col-md-6\" id=\"archetypeParent\"><h4 class=\"h-border\">परिचय</h4><div class=\"abt-para\"><p>लामो समयदेखि काठमाडौं उपत्यका तथा अन्य क्षेत्रको तरकारी तथा फलफूलहरुको वेचविखन गर्ने थलोको रुपमा रहदै आएको कालीमाटी बजार वि.सं. २०४३ आश्विन १५ गते देखि तत्कालिन खाद्य तथा कृषि बजार सेवा विभाग अन्तर्गत सञ्चालनमा आएको थियो । बजार सञ्चालनको क्रममा बजार आगमन र कारोबारको स्थितिमा भएको विस्तार एवं बजार प्रयोगकर्ताहरुको बढ्दो चापलाई मध्यनजर गरी नेपाल सरकार तथा संयुक्त राष्ट्रसंघीय पूँजी विकास कोष (UNCDF) को सहयोगमा हालका अधिकांश संरचना निर्माण भएका हुन् ।<br/>कालीमाटी तरकारी बजारको निर्माण तथा व्यवस्थापनको लागि एउटा स्वायत्त निकायको आवश्यकता महशुस गरी नेपाल सरकारद्वारा विकास समिति ऐन-२०१३ अन्तर्गत वि.सं. २०५१ फागुन १ गते \"कालीमाटी फलफूल तथा तरकारी थोक बजार विकास समिति (गठन) आदेश, २०५१\" जारी गरियो । समितिको कार्य क्षेत्रलाई विस्तार गर्ने अभिप्रायले नेपाल सरकारले वि.सं. २०५८ चैत्र १९ गते साविकको आदेश खारेज गरी सोही ऐन अन्तर्गत \"कालीमाटी फलफूल तथा तरकारी बजार विकास समिति(गठन) आदेश, २०५८\" जारी गरी सोही अनुसार संघीय संरचना बमोजिम यस समितिलाई संघ अन्तर्गतको निकाय कायम गरिएको छ । नेपाल सरकारबाट निर्माण भएको कृषि उपज बजार बालाजु २०६२ असार महिना देखि समितिले सञ्चालन गर्दै आएको छ।<br/>समितिको स्वामित्वमा रहेको कीर्तिपुर नगरपालिका वडा नं.६ चोभारमा करिब २२ रोपनी जग्गामा फलफूल तथा पुष्प बजार निर्माणाधिन अवस्थामा छ । यसैगरी धादिङ्ग नौविसे स्थित आफ्नै स्वामित्वको करिव ४.५ रोपनी जग्गामा सङ्कलन केन्द्र स्थापना गर्ने सोचाई समितिले राखेको छ।</p></div><a class=\"btn btn-theme btn-active\" href=\"https://kalimatimarket.gov.np/about\">थप पढ्नुहोस्</a>\n",
              "<a class=\"btn btn-theme\" href=\"https://kalimatimarket.gov.np/contact\">हामीलाई सम्पर्क गर्नुहोस्</a></div><div class=\"col-md-6\" id=\"commodityPricesDailyTable\" style=\"flex: 1;\"><div class=\"row\" style=\"margin:0\"><div class=\"col-sm-12\"><div class=\"features-inner even bg-white\"><h5 style=\"padding-top:0;color:#006400\">दैनिक मूल्यहरु - वि.सं. भदौ ०७, २०८१</h5><table class=\"dt table-striped table-hover\" id=\"commodityDailyPrice\"><thead><tr><th>कृषि उपज</th><th>न्यूनतम</th><th>अधिकतम</th><th>औसत</th></tr></thead><tbody><tr><td class=\"dt-body-left\">गोलभेडा ठूलो(नेपाली) <span class=\"text-muted\">(के.जी.)</span></td><td>रू ९०</td><td>रू १००</td><td>रू ९६.६७</td></tr><tr><td class=\"dt-body-left\">गोलभेडा सानो(लोकल) <span class=\"text-muted\">(के.जी.)</span></td><td>रू ३०</td><td>रू ४०</td><td>रू ३५.००</td></tr><tr><td class=\"dt-body-left\">गोलभेडा सानो(टनेल) <span class=\"text-muted\">(के जी)</span></td><td>रू ४२</td><td>रू ५०</td><td>रू ४६.००</td></tr><tr><td class=\"dt-body-left\">आलु रातो <span class=\"text-muted\">(के.जी.)</span></td><td>रू ६५</td><td>रू ७०</td><td>रू ६८.००</td></tr><tr><td class=\"dt-body-left\">आलु रातो(भारतीय) <span class=\"text-muted\">(के जी)</span></td><td>रू ५५</td><td>रू ५८</td><td>रू ५७.००</td></tr><tr><td class=\"dt-body-left\">आलु रातो(मुडे) <span class=\"text-muted\">(केजी)</span></td><td>रू ६०</td><td>रू ६३</td><td>रू ६१.४०</td></tr><tr><td class=\"dt-body-left\">आलु सेतो <span class=\"text-muted\">(के.जी.)</span></td><td>रू ५४</td><td>रू ५५</td><td>रू ५४.५०</td></tr><tr><td class=\"dt-body-left\">प्याज सुकेको (भारतीय) <span class=\"text-muted\">(के.जी.)</span></td><td>रू ९५</td><td>रू १००</td><td>रू ९८.००</td></tr><tr><td class=\"dt-body-left\">गाजर(लोकल) <span class=\"text-muted\">(के.जी.)</span></td><td>रू १००</td><td>रू ११०</td><td>रू १०६.००</td></tr><tr><td class=\"dt-body-left\">गाजर(तराई) <span class=\"text-muted\">(केजी)</span></td><td>रू ८०</td><td>रू ९०</td><td>रू ८५.००</td></tr><tr><td class=\"dt-body-left\">बन्दा(लोकल) <span class=\"text-muted\">(के.जी.)</span></td><td>रू ६०</td><td>रू ७०</td><td>रू ६५.००</td></tr><tr><td class=\"dt-body-left\">काउली स्थानिय <span class=\"text-muted\">(के.जी.)</span></td><td>रू ७०</td><td>रू ८०</td><td>रू ७६.६७</td></tr><tr><td class=\"dt-body-left\">स्थानीय काउली(ज्यापु) <span class=\"text-muted\">(केजी)</span></td><td>रू ९०</td><td>रू १००</td><td>रू ९६.६७</td></tr><tr><td class=\"dt-body-left\">मूला रातो <span class=\"text-muted\">(के.जी.)</span></td><td>रू ३०</td><td>रू ४०</td><td>रू ३५.००</td></tr><tr><td class=\"dt-body-left\">मूला सेतो(लोकल) <span class=\"text-muted\">(के.जी.)</span></td><td>रू १५</td><td>रू २०</td><td>रू १८.३३</td></tr><tr><td class=\"dt-body-left\">सेतो मूला(हाइब्रीड) <span class=\"text-muted\">(केजी)</span></td><td>रू २०</td><td>रू ३०</td><td>रू २५.००</td></tr><tr><td class=\"dt-body-left\">भन्टा लाम्चो <span class=\"text-muted\">(के.जी.)</span></td><td>रू ३०</td><td>रू ४०</td><td>रू ३५.००</td></tr><tr><td class=\"dt-body-left\">भन्टा डल्लो <span class=\"text-muted\">(के.जी.)</span></td><td>रू ४०</td><td>रू ५०</td><td>रू ४५.००</td></tr><tr><td class=\"dt-body-left\">बोडी(तने) <span class=\"text-muted\">(के.जी.)</span></td><td>रू ६०</td><td>रू ८०</td><td>रू ६८.००</td></tr><tr><td class=\"dt-body-left\">मकै बोडी <span class=\"text-muted\">(केजी)</span></td><td>रू ७०</td><td>रू ८०</td><td>रू ७६.६७</td></tr><tr><td class=\"dt-body-left\">घिउ सिमी(लोकल) <span class=\"text-muted\">(के.जी.)</span></td><td>रू ६०</td><td>रू ८०</td><td>रू ७०.००</td></tr><tr><td class=\"dt-body-left\">घिउ सिमी(हाइब्रीड) <span class=\"text-muted\">(केजी)</span></td><td>रू ६०</td><td>रू ८०</td><td>रू ७०.००</td></tr><tr><td class=\"dt-body-left\">घिउ सिमी(राजमा) <span class=\"text-muted\">(केजी)</span></td><td>रू १४०</td><td>रू १६०</td><td>रू १५०.००</td></tr><tr><td class=\"dt-body-left\">टाटे सिमी <span class=\"text-muted\">(के.जी.)</span></td><td>रू ८०</td><td>रू ९०</td><td>रू ८६.६७</td></tr><tr><td class=\"dt-body-left\">भटमासकोशा <span class=\"text-muted\">(के.जी.)</span></td><td>रू १२०</td><td>रू १३०</td><td>रू १२५.००</td></tr><tr><td class=\"dt-body-left\">तितो करेला <span class=\"text-muted\">(के.जी.)</span></td><td>रू ३०</td><td>रू ४०</td><td>रू ३५.००</td></tr><tr><td class=\"dt-body-left\">लौका <span class=\"text-muted\">(के.जी.)</span></td><td>रू ४०</td><td>रू ५०</td><td>रू ४६.००</td></tr><tr><td class=\"dt-body-left\">परवर(लोकल) <span class=\"text-muted\">(के.जी.)</span></td><td>रू ६०</td><td>रू ७०</td><td>रू ६६.००</td></tr><tr><td class=\"dt-body-left\">परवर(तराई) <span class=\"text-muted\">(केजी)</span></td><td>रू ६०</td><td>रू ७०</td><td>रू ६५.००</td></tr><tr><td class=\"dt-body-left\">चिचिण्डो <span class=\"text-muted\">(के.जी.)</span></td><td>रू ३०</td><td>रू ४०</td><td>रू ३५.००</td></tr><tr><td class=\"dt-body-left\">घिरौला <span class=\"text-muted\">(के.जी.)</span></td><td>रू ४०</td><td>रू ५०</td><td>रू ४५.००</td></tr><tr><td class=\"dt-body-left\">झिगूनी <span class=\"text-muted\">(के.जी.)</span></td><td>रू ५०</td><td>रू ६०</td><td>रू ५५.००</td></tr><tr><td class=\"dt-body-left\">फर्सी पाकेको <span class=\"text-muted\">(के.जी.)</span></td><td>रू ५०</td><td>रू ६०</td><td>रू ५५.००</td></tr><tr><td class=\"dt-body-left\">हरियो फर्सी(डल्लो) <span class=\"text-muted\">(केजी)</span></td><td>रू ५०</td><td>रू ६०</td><td>रू ५५.००</td></tr><tr><td class=\"dt-body-left\">भिण्डी <span class=\"text-muted\">(के.जी.)</span></td><td>रू २५</td><td>रू ३५</td><td>रू २९.००</td></tr><tr><td class=\"dt-body-left\">पिंडालू <span class=\"text-muted\">(के.जी.)</span></td><td>रू ८०</td><td>रू ९०</td><td>रू ८६.६७</td></tr><tr><td class=\"dt-body-left\">स्कूस <span class=\"text-muted\">(के.जी.)</span></td><td>रू ३०</td><td>रू ३५</td><td>रू ३३.००</td></tr><tr><td class=\"dt-body-left\">रायो साग <span class=\"text-muted\">(के.जी.)</span></td><td>रू ९०</td><td>रू १००</td><td>रू ९६.६७</td></tr><tr><td class=\"dt-body-left\">तोरीको साग <span class=\"text-muted\">(के.जी.)</span></td><td>रू ५०</td><td>रू ६०</td><td>रू ५५.००</td></tr><tr><td class=\"dt-body-left\">प्याज हरियो <span class=\"text-muted\">(के.जी.)</span></td><td>रू २८०</td><td>रू ३००</td><td>रू २९०.००</td></tr><tr><td class=\"dt-body-left\">च्याउ(कन्य) <span class=\"text-muted\">(के.जी.)</span></td><td>रू १४०</td><td>रू १८०</td><td>रू १५६.००</td></tr><tr><td class=\"dt-body-left\">च्याउ(डल्ले) <span class=\"text-muted\">(के जी)</span></td><td>रू ३२०</td><td>रू ३५०</td><td>रू ३३२.००</td></tr><tr><td class=\"dt-body-left\">कुरीलो <span class=\"text-muted\">(के.जी.)</span></td><td>रू २००</td><td>रू ३००</td><td>रू २५०.००</td></tr><tr><td class=\"dt-body-left\">न्यूरो <span class=\"text-muted\">(के.जी.)</span></td><td>रू ८०</td><td>रू ९०</td><td>रू ८६.६७</td></tr><tr><td class=\"dt-body-left\">ब्रोकाउली <span class=\"text-muted\">(के.जी.)</span></td><td>रू १६०</td><td>रू २००</td><td>रू १८०.००</td></tr><tr><td class=\"dt-body-left\">चुकुन्दर <span class=\"text-muted\">(के.जी.)</span></td><td>रू ७०</td><td>रू ८०</td><td>रू ७६.६७</td></tr><tr><td class=\"dt-body-left\">सजिवन <span class=\"text-muted\">(के.जी.)</span></td><td>रू २००</td><td>रू २५०</td><td>रू २२५.००</td></tr><tr><td class=\"dt-body-left\">रातो बन्दा <span class=\"text-muted\">(के.जी.)</span></td><td>रू ११०</td><td>रू १२०</td><td>रू ११६.६७</td></tr><tr><td class=\"dt-body-left\">जिरीको साग <span class=\"text-muted\">(के.जी.)</span></td><td>रू ९०</td><td>रू १००</td><td>रू ९६.६७</td></tr><tr><td class=\"dt-body-left\">सेलरी <span class=\"text-muted\">(के.जी.)</span></td><td>रू ३५०</td><td>रू ४००</td><td>रू ३७५.००</td></tr><tr><td class=\"dt-body-left\">पार्सले <span class=\"text-muted\">(के.जी.)</span></td><td>रू १२००</td><td>रू १३००</td><td>रू १,२५०.००</td></tr><tr><td class=\"dt-body-left\">पुदीना <span class=\"text-muted\">(के.जी.)</span></td><td>रू ५००</td><td>रू ६००</td><td>रू ५५०.००</td></tr><tr><td class=\"dt-body-left\">गान्टे मूला <span class=\"text-muted\">(के.जी.)</span></td><td>रू ८०</td><td>रू ९०</td><td>रू ८५.००</td></tr><tr><td class=\"dt-body-left\">इमली <span class=\"text-muted\">(के.जी.)</span></td><td>रू १४०</td><td>रू १५०</td><td>रू १४६.६७</td></tr><tr><td class=\"dt-body-left\">तामा <span class=\"text-muted\">(के.जी.)</span></td><td>रू १००</td><td>रू ११०</td><td>रू १०५.००</td></tr><tr><td class=\"dt-body-left\">तोफु <span class=\"text-muted\">(के.जी.)</span></td><td>रू १४०</td><td>रू १५०</td><td>रू १४३.३३</td></tr><tr><td class=\"dt-body-left\">गुन्दुक <span class=\"text-muted\">(के.जी.)</span></td><td>रू २५०</td><td>रू ३००</td><td>रू २७५.००</td></tr><tr><td class=\"dt-body-left\">स्याउ(फूजी) <span class=\"text-muted\">(के जी)</span></td><td>रू ३००</td><td>रू ३२०</td><td>रू ३१०.००</td></tr><tr><td class=\"dt-body-left\">केरा <span class=\"text-muted\">(दर्जन)</span></td><td>रू १३०</td><td>रू १५०</td><td>रू १४०.००</td></tr><tr><td class=\"dt-body-left\">कागती <span class=\"text-muted\">(के.जी.)</span></td><td>रू २३०</td><td>रू २६०</td><td>रू २४६.००</td></tr><tr><td class=\"dt-body-left\">अनार <span class=\"text-muted\">(के.जी.)</span></td><td>रू ३८०</td><td>रू ४००</td><td>रू ३९०.००</td></tr><tr><td class=\"dt-body-left\">अंगुर(कालो) <span class=\"text-muted\">(केजी)</span></td><td>रू ४००</td><td>रू ४५०</td><td>रू ४२५.००</td></tr><tr><td class=\"dt-body-left\">तरबुजा(हरियो) <span class=\"text-muted\">(के.जी.)</span></td><td>रू ५०</td><td>रू ६०</td><td>रू ५५.००</td></tr><tr><td class=\"dt-body-left\">मौसम <span class=\"text-muted\">(के.जी.)</span></td><td>रू १३०</td><td>रू १४०</td><td>रू १३६.६७</td></tr><tr><td class=\"dt-body-left\">जुनार <span class=\"text-muted\">(के.जी.)</span></td><td>रू २२०</td><td>रू २५०</td><td>रू २३५.००</td></tr><tr><td class=\"dt-body-left\">भुई कटहर <span class=\"text-muted\">(प्रति गोटा)</span></td><td>रू १६०</td><td>रू १८०</td><td>रू १७०.००</td></tr><tr><td class=\"dt-body-left\">काक्रो(लोकल) <span class=\"text-muted\">(के.जी.)</span></td><td>रू ५०</td><td>रू ६०</td><td>रू ५५.००</td></tr><tr><td class=\"dt-body-left\">काक्रो(हाइब्रीड) <span class=\"text-muted\">(के जी)</span></td><td>रू २५</td><td>रू ३०</td><td>रू २८.३३</td></tr><tr><td class=\"dt-body-left\">रुख कटहर <span class=\"text-muted\">(के.जी.)</span></td><td>रू ८०</td><td>रू ९०</td><td>रू ८६.६७</td></tr><tr><td class=\"dt-body-left\">नासपाती(लोकल) <span class=\"text-muted\">(के.जी.)</span></td><td>रू ९०</td><td>रू १००</td><td>रू ९६.६७</td></tr><tr><td class=\"dt-body-left\">नासपाती(चाइनिज) <span class=\"text-muted\">(केजी)</span></td><td>रू २८०</td><td>रू ३००</td><td>रू २९०.००</td></tr><tr><td class=\"dt-body-left\">मेवा(भारतीय) <span class=\"text-muted\">(केजी)</span></td><td>रू ८०</td><td>रू ९०</td><td>रू ८६.६७</td></tr><tr><td class=\"dt-body-left\">लप्सी <span class=\"text-muted\">(के.जी.)</span></td><td>रू ६०</td><td>रू ७०</td><td>रू ६५.००</td></tr><tr><td class=\"dt-body-left\">किवि <span class=\"text-muted\">(केजी)</span></td><td>रू ४५०</td><td>रू ५००</td><td>रू ४७५.००</td></tr><tr><td class=\"dt-body-left\">शरीफा <span class=\"text-muted\">(के‍.जी)</span></td><td>रू २००</td><td>रू २५०</td><td>रू २२५.००</td></tr><tr><td class=\"dt-body-left\">आभोकाडो <span class=\"text-muted\">(के.जी)</span></td><td>रू २५०</td><td>रू ३००</td><td>रू २७५.००</td></tr><tr><td class=\"dt-body-left\">अमला <span class=\"text-muted\">(के.जी)</span></td><td>रू १५०</td><td>रू २००</td><td>रू १७५.००</td></tr><tr><td class=\"dt-body-left\">अदुवा <span class=\"text-muted\">(के.जी.)</span></td><td>रू १८०</td><td>रू २००</td><td>रू १९३.३३</td></tr><tr><td class=\"dt-body-left\">खु्र्सानी सुकेको <span class=\"text-muted\">(के.जी.)</span></td><td>रू ४००</td><td>रू ४५०</td><td>रू ४२५.००</td></tr><tr><td class=\"dt-body-left\">खु्र्सानी हरियो <span class=\"text-muted\">(के.जी.)</span></td><td>रू ८०</td><td>रू १००</td><td>रू ९०.००</td></tr><tr><td class=\"dt-body-left\">खुर्सानी हरियो(बुलेट) <span class=\"text-muted\">(के जी)</span></td><td>रू ११०</td><td>रू १३०</td><td>रू १२०.००</td></tr><tr><td class=\"dt-body-left\">खुर्सानी हरियो(माछे) <span class=\"text-muted\">(के जी)</span></td><td>रू ८०</td><td>रू ९०</td><td>रू ८६.६७</td></tr><tr><td class=\"dt-body-left\">खुर्सानी हरियो(अकबरे) <span class=\"text-muted\">(के जी)</span></td><td>रू ३००</td><td>रू ४००</td><td>रू ३५०.००</td></tr><tr><td class=\"dt-body-left\">भेडे खु्र्सानी <span class=\"text-muted\">(के.जी.)</span></td><td>रू ७०</td><td>रू ८०</td><td>रू ७६.००</td></tr><tr><td class=\"dt-body-left\">लसुन हरियो <span class=\"text-muted\">(के.जी.)</span></td><td>रू १५०</td><td>रू २००</td><td>रू १७५.००</td></tr><tr><td class=\"dt-body-left\">हरियो धनिया <span class=\"text-muted\">(के.जी.)</span></td><td>रू २५०</td><td>रू ३५०</td><td>रू ३००.००</td></tr><tr><td class=\"dt-body-left\">लसुन सुकेको चाइनिज <span class=\"text-muted\">(के.जी.)</span></td><td>रू २५०</td><td>रू २६०</td><td>रू २५६.००</td></tr><tr><td class=\"dt-body-left\">लसुन सुकेको नेपाली <span class=\"text-muted\">(के.जी.)</span></td><td>रू २२०</td><td>रू २३०</td><td>रू २२६.६७</td></tr><tr><td class=\"dt-body-left\">छ्यापी सुकेको <span class=\"text-muted\">(के.जी.)</span></td><td>रू १५०</td><td>रू १६०</td><td>रू १५५.००</td></tr><tr><td class=\"dt-body-left\">छ्यापी हरियो <span class=\"text-muted\">(के.जी.)</span></td><td>रू २२०</td><td>रू २५०</td><td>रू २३५.००</td></tr><tr><td class=\"dt-body-left\">ताजा माछा(रहु) <span class=\"text-muted\">(के जी)</span></td><td>रू ३४०</td><td>रू ३५०</td><td>रू ३४५.००</td></tr><tr><td class=\"dt-body-left\">ताजा माछा(बचुवा) <span class=\"text-muted\">(के जी)</span></td><td>रू २५०</td><td>रू २६०</td><td>रू २५५.००</td></tr><tr><td class=\"dt-body-left\">ताजा माछा(छडी) <span class=\"text-muted\">(के जी)</span></td><td>रू २४०</td><td>रू २५०</td><td>रू २४६.६७</td></tr><tr><td class=\"dt-body-left\">राजा च्याउ <span class=\"text-muted\">(के.जी.)</span></td><td>रू २८०</td><td>रू ३००</td><td>रू २९३.३३</td></tr></tbody></table></div></div></div></div></div></div></section><div class=\"quote\"><div class=\"container\"><div class=\"row\"><div class=\"col-sm-5\"><div class=\"get-q\">\n",
              "<a class=\"btn btn-theme\" href=\"https://kalimatimarket.gov.np/apk/kalimati.apk\">डाउनलोड गर्नुहोस् <i aria-hidden=\"true\" class=\"fab fa-android\"></i></a></div></div><div class=\"col-sm-7\"><p>बजार मूल्यहरूसंग जानकार रहनुहोस्, आफ्नै फोनमा।</p></div></div></div></div><section class=\"service-01 sp-100\"><div class=\"container\"><div class=\"row\"><div class=\"col-sm-3\"><div class=\"row\"><div class=\"col-sm-12\"><div class=\"service-wrap current\" data-tab=\"defi-tab-1\" style=\"background-image:url('https://kalimatimarket.gov.np/img/defi-bg1.jpg')\"><div class=\"service-icon\">\n",
              "<i class=\"fa fa-line-chart\"></i></div><h4>सूचनाहरु</h4><p>जाँच गर्न यहाँ क्लिक गर्नुहोस्: सूचनाहरु</p></div></div><div class=\"col-sm-12\"><div class=\"service-wrap\" data-tab=\"defi-tab-2\" style=\"background-image:url('https://kalimatimarket.gov.np/img/defi-bg2.jpg')\"><div class=\"service-icon\">\n",
              "<i class=\"fa fa-line-chart\"></i></div><h4>बोलपत्र आह्वान</h4><p>जाँच गर्न यहाँ क्लिक गर्नुहोस्: बोलपत्र आह्वान</p></div></div><div class=\"col-sm-12\"><div class=\"service-wrap\" data-tab=\"defi-tab-3\" style=\"background-image:url('https://kalimatimarket.gov.np/img/defi-bg3.jpg')\"><div class=\"service-icon\">\n",
              "<i class=\"fa fa-line-chart\"></i></div><h4>विषादी अवशेष रिपोर्ट</h4><p>जाँच गर्न यहाँ क्लिक गर्नुहोस्: विषादी अवशेष रिपोर्ट</p></div></div></div></div><div class=\"col-sm-6 col-sm-pull-3\"><div class=\"defi-panel\"><div class=\"panel-content current\" id=\"defi-tab-1\"><div class=\"content-wrap\"><h2>सूचनाहरु</h2><div class=\"project-detail\"><h4>प्रकासित रिपोर्ट हरुको सूची</h4><div class=\"pro-info\"><div class=\"table-responsive\"><table class=\"table table-striped table-hover\"><thead><tr><th>शीर्षक</th><th>डाउनलोड गर्नुहोस्</th></tr></thead><tbody><tr><td><a href=\"https://kalimatimarket.gov.np/notice/522\">बोलपत्र स्वीकृत गर्ने आशयको सूचना</a></td><td><a download=\"\" href=\"https://kalimatimarket.gov.np/storage/files/shares/Notice208081/notice4208081.jpg\"><i aria-hidden=\"true\" class=\"fa fa-download\"></i> डाउनलोड गर्नुहोस्</a></td></tr><tr><td><a href=\"https://kalimatimarket.gov.np/notice/439\">वार्षिक उत्सव</a></td><td><a download=\"\" href=\"https://kalimatimarket.gov.np/storage/files/shares/other/card.jpg\"><i aria-hidden=\"true\" class=\"fa fa-download\"></i> डाउनलोड गर्नुहोस्</a></td></tr><tr><td><a href=\"https://kalimatimarket.gov.np/notice/423\">बोलपत्र स्वीकृत गर्ने आशयको सूचना</a></td><td><a download=\"\" href=\"https://kalimatimarket.gov.np/storage/files/shares/Notice208081/notice20808125.jpg\"><i aria-hidden=\"true\" class=\"fa fa-download\"></i> डाउनलोड गर्नुहोस्</a></td></tr><tr><td><a href=\"https://kalimatimarket.gov.np/notice/418\">बोलपत्र स्वीकृत गर्ने आशयको सूचना</a></td><td><a download=\"\" href=\"https://kalimatimarket.gov.np/storage/files/shares/Notice208081/notice20808124.jpg\"><i aria-hidden=\"true\" class=\"fa fa-download\"></i> डाउनलोड गर्नुहोस्</a></td></tr><tr><td><a href=\"https://kalimatimarket.gov.np/notice/395\">सटर भाडामा लगाउने सम्बन्धी आशयको सूचना</a></td><td><a download=\"\" href=\"https://kalimatimarket.gov.np/storage/files/shares/Notice208081/notice22.jpg\"><i aria-hidden=\"true\" class=\"fa fa-download\"></i> डाउनलोड गर्नुहोस्</a></td></tr><tr><td colspan=\"2\"><a href=\"https://kalimatimarket.gov.np/notices/notice\">सबै हेर्नुहोस्</a></td></tr></tbody></table></div></div></div></div></div><div class=\"panel-content\" id=\"defi-tab-2\"><div class=\"content-wrap\"><h2>बोलपत्र आह्वान</h2><div class=\"project-detail\"><h4>प्रकासित बोलपत्र आह्वान हरुको सूची</h4><div class=\"pro-info\"><div class=\"table-responsive\"><table class=\"table table-striped table-hover\"><thead><tr><th>शीर्षक</th><th>डाउनलोड गर्नुहोस्</th></tr></thead><tbody><tr><td><a href=\"https://kalimatimarket.gov.np/notice/591\">सुरक्षा सेवा करारमा लिने सम्बन्धी कार्यको बोलपत्र आह्वानको सूचना</a></td><td><a download=\"\" href=\"https://kalimatimarket.gov.np/storage/files/shares/notice208182/notice3208182.jpg\"><i aria-hidden=\"true\" class=\"fa fa-download\"></i> डाउनलोड गर्नुहोस्</a></td></tr><tr><td><a href=\"https://kalimatimarket.gov.np/notice/526\">चमेनागृहहरु भाडामा सञ्चालन गर्न न्यूनतम रकममा बढाबढद्वारा बोलपत्र आह्वान समब्नधी सूचना</a></td><td><a download=\"\" href=\"https://kalimatimarket.gov.np/storage/files/shares/Notice208081/notice4408081.jpg\"><i aria-hidden=\"true\" class=\"fa fa-download\"></i> डाउनलोड गर्नुहोस्</a></td></tr><tr><td><a href=\"https://kalimatimarket.gov.np/notice/524\">मोटरसाइकल पार्किङ्ग सञ्चालन गरी शुल्क बुझाउने ठेक्का सम्बन्धी बढाबढको बोलपत्र आह्वान</a></td><td><a download=\"\" href=\"https://kalimatimarket.gov.np/storage/files/shares/Notice208081/notice4308081.jpg\"><i aria-hidden=\"true\" class=\"fa fa-download\"></i> डाउनलोड गर्नुहोस्</a></td></tr><tr><td><a href=\"https://kalimatimarket.gov.np/notice/515\">सटर भाडामा सञ्चालन गर्ने सम्बन्धी बोलपत्र आह्वान</a></td><td><a download=\"\" href=\"https://kalimatimarket.gov.np/storage/files/shares/Notice208081/notice38208081.jpg\"><i aria-hidden=\"true\" class=\"fa fa-download\"></i> डाउनलोड गर्नुहोस्</a></td></tr><tr><td><a href=\"https://kalimatimarket.gov.np/notice/501\">बोलपत्र आह्वान सम्बन्धी सूचना</a></td><td><a download=\"\" href=\"https://kalimatimarket.gov.np/storage/files/shares/Notice208081/notice36208081.jpg\"><i aria-hidden=\"true\" class=\"fa fa-download\"></i> डाउनलोड गर्नुहोस्</a></td></tr><tr><td colspan=\"2\"><a href=\"https://kalimatimarket.gov.np/notices/tender\">सबै हेर्नुहोस्</a></td></tr></tbody></table></div></div></div></div></div><div class=\"panel-content\" id=\"defi-tab-3\"><div class=\"content-wrap\"><h2> विषादी अवशेष रिपोर्ट</h2><div class=\"project-detail\"><h4>प्रकासित विषादी अवशेष रिपोर्ट हरुको सूची</h4><div class=\"pro-info\"><div class=\"table-responsive\"><table class=\"table table-striped table-hover\"><thead><tr><th>शीर्षक</th><th>डाउनलोड गर्नुहोस्</th></tr></thead><tbody><tr><td><a href=\"https://kalimatimarket.gov.np/notice/595\">विषादी अवशेष विशरलेष नतिजा २०८१/५/७</a></td><td><a download=\"\" href=\"https://kalimatimarket.gov.np/storage/files/shares/Pesticides/2081/05/20810507.jpg\"><i aria-hidden=\"true\" class=\"fa fa-download\"></i> डाउनलोड गर्नुहोस्</a></td></tr><tr><td><a href=\"https://kalimatimarket.gov.np/notice/594\">विषादी अवशेष विशरलेष नतिजा २०८१/५/६</a></td><td><a download=\"\" href=\"https://kalimatimarket.gov.np/storage/files/shares/Pesticides/2081/05/20810506.jpg\"><i aria-hidden=\"true\" class=\"fa fa-download\"></i> डाउनलोड गर्नुहोस्</a></td></tr><tr><td><a href=\"https://kalimatimarket.gov.np/notice/593\">विषादी अवशेष विशरलेष नतिजा २०८१/५/५</a></td><td><a download=\"\" href=\"https://kalimatimarket.gov.np/storage/files/shares/Pesticides/2081/05/20810505.jpg\"><i aria-hidden=\"true\" class=\"fa fa-download\"></i> डाउनलोड गर्नुहोस्</a></td></tr><tr><td><a href=\"https://kalimatimarket.gov.np/notice/592\">विषादी अवशेष विशरलेष नतिजा २०८१/५/२</a></td><td><a download=\"\" href=\"https://kalimatimarket.gov.np/storage/files/shares/Pesticides/2081/05/20810502.jpg\"><i aria-hidden=\"true\" class=\"fa fa-download\"></i> डाउनलोड गर्नुहोस्</a></td></tr><tr><td><a href=\"https://kalimatimarket.gov.np/notice/590\">विषादी अवशेष विशरलेष नतिजा २०८१/४/३२</a></td><td><a download=\"\" href=\"https://kalimatimarket.gov.np/storage/files/shares/Pesticides/2081/04/20810432.jpg\"><i aria-hidden=\"true\" class=\"fa fa-download\"></i> डाउनलोड गर्नुहोस्</a></td></tr><tr><td colspan=\"2\"><a href=\"https://kalimatimarket.gov.np/notices/pest\">सबै हेर्नुहोस्</a></td></tr></tbody></table></div></div></div></div></div><div class=\"panel-content\" id=\"defi-tab-4\"><div class=\"content-wrap\"><h2>बिल प्रकाशन</h2><div class=\"project-detail\"><h4>प्रकासित बिल प्रकाशन हरुको सूची</h4><div class=\"pro-info\"><div class=\"table-responsive\"><table class=\"table table-striped table-hover\"><thead><tr><th>शीर्षक</th><th>डाउनलोड गर्नुहोस्</th></tr></thead><tbody><tr><td colspan=\"2\">यस क्षणमा कुनै पनि सूचना वा प्रकाशनहरू प्रदर्शन गरिएको फेला परेन। कृपया पछि जाँच गर्नुहोस्, वा तत्काल अद्यावधिकहरूको लागि हाम्रो न्यूजलेटरको सदस्यता लिनुहोस्।</td></tr><tr><td colspan=\"2\"><a href=\"https://kalimatimarket.gov.np/notices/bill_publication\">सबै हेर्नुहोस्</a></td></tr></tbody></table></div></div></div></div></div><div class=\"panel-content\" id=\"defi-tab-5\"><div class=\"content-wrap\"><h2>सूचनाको हक(स्वायत्त)</h2><div class=\"project-detail\"><h4>प्रकासित रिपोर्टहरू हरुको सूची</h4><div class=\"pro-info\"><div class=\"table-responsive\"><table class=\"table table-striped table-hover\"><thead><tr><th>शीर्षक</th><th>डाउनलोड गर्नुहोस्</th></tr></thead><tbody><tr><td><a href=\"https://kalimatimarket.gov.np/notice/580\">सूचनाको हकसम्बन्धी २०८०।८१ चौथो त्रैमासिक विवरण</a></td><td><a download=\"\" href=\"https://kalimatimarket.gov.np/storage/files/shares/other/20808104.pdf\"><i aria-hidden=\"true\" class=\"fa fa-download\"></i> डाउनलोड गर्नुहोस्</a></td></tr><tr><td><a href=\"https://kalimatimarket.gov.np/notice/508\">सूचनाको हकसम्बन्धी २०८०।८१ तेश्रो त्रैमासिक विवरण</a></td><td><a download=\"\" href=\"https://kalimatimarket.gov.np/storage/files/shares/other/208081_10_12.pdf\"><i aria-hidden=\"true\" class=\"fa fa-download\"></i> डाउनलोड गर्नुहोस्</a></td></tr><tr><td><a href=\"https://kalimatimarket.gov.np/notice/425\">आ.ब. २०८०।८१ को द्रोश्रो त्रैमासिक सूचनाको हकसम्बन्धी</a></td><td><a download=\"\" href=\"https://kalimatimarket.gov.np/storage/files/shares/other/208081_07_09.pdf\"><i aria-hidden=\"true\" class=\"fa fa-download\"></i> डाउनलोड गर्नुहोस्</a></td></tr><tr><td><a href=\"https://kalimatimarket.gov.np/notice/371\">आ.ब. २०८०।८१ को प्रथम त्रैमासिक सूचनाको हकसम्बन्धी</a></td><td><a download=\"\" href=\"https://kalimatimarket.gov.np/storage/files/shares/other/208081_04_06.doc.pdf\"><i aria-hidden=\"true\" class=\"fa fa-download\"></i> डाउनलोड गर्नुहोस्</a></td></tr><tr><td><a href=\"https://kalimatimarket.gov.np/notice/325\">सूचनाको हकसम्बन्धी  चौथो त्रैमासिक २०७९।८०</a></td><td><a download=\"\" href=\"https://kalimatimarket.gov.np/storage/files/shares/other/207980_01_03.pdf\"><i aria-hidden=\"true\" class=\"fa fa-download\"></i> डाउनलोड गर्नुहोस्</a></td></tr><tr><td colspan=\"2\"><a href=\"https://kalimatimarket.gov.np/notices/annual\">सबै हेर्नुहोस्</a></td></tr></tbody></table></div></div></div></div></div><div class=\"panel-content\" id=\"defi-tab-6\"><div class=\"content-wrap\"><h2>प्रकाशनहरु</h2><div class=\"project-detail\"><h4>प्रकासित प्रकाशनहरु हरुको सूची</h4><div class=\"pro-info\"><div class=\"table-responsive\"><table class=\"table table-striped table-hover\"><thead><tr><th>शीर्षक</th><th>डाउनलोड गर्नुहोस्</th></tr></thead><tbody><tr><td><a href=\"https://kalimatimarket.gov.np/notice/570\">वार्षिक पुस्तिका २०७९।८०</a></td><td><a download=\"\" href=\"https://kalimatimarket.gov.np/storage/files/shares/Publication/AnnualBook2079_80.pdf\"><i aria-hidden=\"true\" class=\"fa fa-download\"></i> डाउनलोड गर्नुहोस्</a></td></tr><tr><td><a href=\"https://kalimatimarket.gov.np/notice/499\">वार्षिक विवरण २०८०</a></td><td><a download=\"\" href=\"https://kalimatimarket.gov.np/storage/files/shares/Report/YearlyReport2080.xls\"><i aria-hidden=\"true\" class=\"fa fa-download\"></i> डाउनलोड गर्नुहोस्</a></td></tr><tr><td><a href=\"https://kalimatimarket.gov.np/notice/258\">वार्षिक विवरण २०७९</a></td><td><a download=\"\" href=\"https://kalimatimarket.gov.np/storage/files/shares/Report/YearlyReport2079.xls\"><i aria-hidden=\"true\" class=\"fa fa-download\"></i> डाउनलोड गर्नुहोस्</a></td></tr><tr><td><a href=\"https://kalimatimarket.gov.np/notice/232\">वार्षिक पुस्तिका २०७८।७९</a></td><td><a download=\"\" href=\"https://kalimatimarket.gov.np/storage/files/shares/Publication/207879.pdf\"><i aria-hidden=\"true\" class=\"fa fa-download\"></i> डाउनलोड गर्नुहोस्</a></td></tr><tr><td><a href=\"https://kalimatimarket.gov.np/notice/16\">वार्षिक विवरण २०७८</a></td><td><a download=\"\" href=\"https://kalimatimarket.gov.np/storage/files/shares/Report/YearlyReport2078.xls\"><i aria-hidden=\"true\" class=\"fa fa-download\"></i> डाउनलोड गर्नुहोस्</a></td></tr><tr><td colspan=\"2\"><a href=\"https://kalimatimarket.gov.np/notices/publication\">सबै हेर्नुहोस्</a></td></tr></tbody></table></div></div></div></div></div></div></div><div class=\"col-sm-3 col-sm-push-6\"><div class=\"row\"><div class=\"col-sm-12\"><div class=\"service-wrap\" data-tab=\"defi-tab-4\" style=\"background-image:url('https://kalimatimarket.gov.np/img/defi-bg4.jpg')\"><div class=\"service-icon\">\n",
              "<i class=\"fa fa-line-chart\"></i></div><h4>बिल प्रकाशन</h4><p>जाँच गर्न यहाँ क्लिक गर्नुहोस्: बिल प्रकाशन</p></div></div><div class=\"col-sm-12\"><div class=\"service-wrap\" data-tab=\"defi-tab-5\" style=\"background-image:url('https://kalimatimarket.gov.np/img/defi-bg5.jpg')\"><div class=\"service-icon\">\n",
              "<i class=\"fa fa-line-chart\"></i></div><h4>सूचनाको हक(स्वायत्त)</h4><p>जाँच गर्न यहाँ क्लिक गर्नुहोस्: रिपोर्टहरू</p></div></div><div class=\"col-sm-12\"><div class=\"service-wrap\" data-tab=\"defi-tab-6\" style=\"background-image:url('https://kalimatimarket.gov.np/img/defi-bg6.jpg')\"><div class=\"service-icon\">\n",
              "<i class=\"fa fa-line-chart\"></i></div><h4>प्रकाशनहरु</h4><p>जाँच गर्न यहाँ क्लिक गर्नुहोस्: प्रकाशनहरु</p></div></div></div></div></div></div></section><div class=\"quote\"><div class=\"container\"><div class=\"row\"><div class=\"col-sm-7\"><p>कुनै गुनासो, प्रतिक्रिया वा सुझाव छ?</p></div><div class=\"col-sm-5\"><div class=\"get-q\">\n",
              "<a class=\"btn btn-theme\" href=\"https://kalimatimarket.gov.np/contact\">हामीलाई सम्पर्क गर्नुहोस्</a></div></div></div></div></div>\n",
              "<iframe allowfullscreen=\"\" height=\"400\" loading=\"lazy\" src=\"https://www.google.com/maps/embed?pb=!1m14!1m8!1m3!1d3532.588390934938!2d85.2973156!3d27.6991139!3m2!1i1024!2i768!4f13.1!3m3!1m2!1s0x39eb19fc52fffdbb%3A0xc78071032a52b486!2sKalimati%20Market%20Development%20Board%20Office%20Building!5e0!3m2!1sen!2snp!4v1672226070019!5m2!1sen!2snp\" style=\"border:0;\" width=\"100%\"></iframe><section class=\"footer\"><div class=\"container\"><div class=\"footer-top\"><div class=\"row\"><div class=\"col-md-4 mb-60\"><div class=\"company-details\"><h2>\n",
              "कालीमाटी फलफूल तथा तरकारी बजार विकास समिति</h2><div class=\"f-content\"><p>गणेशमान सिंह रोड, काठमाडौं ४४६००</p><ul><li>\n",
              "<i class=\"fa fa-phone\"></i><p>कार्यालयको फोन : <a href=\"tel:+9775123086\">५१२३०८६</a></p></li><li>\n",
              "<i class=\"fa fa-phone\"></i><p>नोटिस बोर्ड सेवा : <a href=\"tel:+1618070766666\">१६१८०७०७६६६६६</a></p></li><li>\n",
              "<i class=\"fa fa-envelope\"></i><p>kalimatimarket@gmail.com</p></li><li>\n",
              "<i class=\"fa fa-globe\"></i><p>www.kalimatimarket.gov.np</p></li></ul></div><ul class=\"social\"><li>\n",
              "<a href=\"https://www.facebook.com/kalimativegetablesmarket/\" target=\"_blank\">\n",
              "<i class=\"fab fa-facebook-f\"></i>\n",
              "</a></li></ul></div></div><div class=\"col-md-4 mb-60\"><div class=\"company-details\"><h2>\n",
              "द्रुत लिङ्कहरू</h2><div class=\"f-content\"><ul><li><p><i class=\"fa fa-globe\"></i><a href=\"/\">गृहपृष्ठ</a></p></li><li><p><i class=\"fa fa-globe\"></i><a href=\"https://kalimatimarket.gov.np/contact\">हामीलाई सम्पर्क गर्नुहोस्</a></p></li><li><p><i class=\"fa fa-globe\"></i><a href=\"https://kmdb.info.np/storage/files/shares/other/citizen.jpg\">नागरिक बडापत्र</a></p></li><li><p><i class=\"fa fa-globe\"></i><a href=\"https://kalimatimarket.gov.np/notices/notice\">सूचनाहरू</a></p></li><li><p><i class=\"fa fa-globe\"></i><a href=\"https://kmdb.info.np/storage/files/shares/other/staff.jpg\">संगठन संरचना</a></p></li><li><p><i class=\"fa fa-globe\"></i><a href=\"https://kalimatimarket.gov.np/notices/pest\">विषादी अवशेष रिपोर्ट</a></p></li><li><p><i class=\"fa fa-globe\"></i><a href=\"https://kalimatimarket.gov.np/notices/bill_publication\">सार्वजनिक बिलिङ रिपोर्ट</a></p></li><li><p><i class=\"fa fa-globe\"></i><a href=\"https://kalimatimarket.gov.np/notices/tender\">बोलपत्रहरु</a></p></li></ul></div></div></div><div class=\"col-md-4 mb-60\"><h3>समाचारपत्रको सदस्यता लिनुहोस्</h3><form action=\"#\" class=\"footer-form\">\n",
              "<input name=\"_token\" type=\"hidden\" value=\"l7ob1GxdaUDtZgpniGyWodAC6yW2SeCDwHiFczxi\"/> <input class=\"form-control\" id=\"_newsletter_name\" name=\"name\" placeholder=\"तपाईंको नाम प्रविष्ट गर्नुहोस्\" required=\"\" type=\"name\"/>\n",
              "<input class=\"form-control\" id=\"_newsletter_email\" name=\"email\" placeholder=\"आफ्नो इमेल लेख्नुहोस\" required=\"\" type=\"email\"/>\n",
              "<button class=\"btn btn-theme\" id=\"subscribe\">सदस्यता लिनुहोस्</button></form></div></div></div><div class=\"footer-bottom\"><p>\n",
              "© २०२४ सबै अधिकार सुरक्षित | <a _target=\"blank\" href=\"https://comptech.com.np\">कालीमाटी फलफूल तथा तरकारी बजार विकास समिति</a></p></div></div></section> <script src=\"/js/manifest.js?id=44908d9388df615240022502e70fb986\"></script> <script src=\"/js/vendor.js?id=bf83db6d66563661662f456a3100d4d7\"></script> <script src=\"/js/frontend.js?id=b35bb368aea7a636fcafd1a3fceca6d4\"></script> <script src=\"https://kalimatimarket.gov.np/vendor/dt/datatables.js\"></script> <script src=\"https://cdn.jsdelivr.net/npm/jquery.marquee@1.6.0/jquery.marquee.min.js\" type=\"text/javascript\"></script> <script>try{jQuery('.marquee').marquee({duration:18400});}catch(e){}</script> </body></html>"
            ]
          },
          "execution_count": 5,
          "metadata": {},
          "output_type": "execute_result"
        }
      ],
      "source": [
        "soup"
      ]
    },
    {
      "cell_type": "code",
      "execution_count": 6,
      "metadata": {
        "id": "7IN61Dzr7uzj"
      },
      "outputs": [],
      "source": [
        "table=soup.find('table')"
      ]
    },
    {
      "cell_type": "code",
      "execution_count": 7,
      "metadata": {
        "id": "fjugDOkz70yF"
      },
      "outputs": [],
      "source": [
        "# table = soup.find('table', {'id': 'commodityDailyPrice'})"
      ]
    },
    {
      "cell_type": "code",
      "execution_count": 8,
      "metadata": {
        "id": "xQI5sPab75Yc"
      },
      "outputs": [],
      "source": [
        "veg=table.find('tbody').find_all('tr')"
      ]
    },
    {
      "cell_type": "code",
      "execution_count": 9,
      "metadata": {
        "colab": {
          "base_uri": "https://localhost:8080/"
        },
        "id": "AbAGQ-SM77Du",
        "outputId": "b42ea0f8-716e-4879-a485-15277c9b510b"
      },
      "outputs": [
        {
          "data": {
            "text/plain": [
              "[<tr><td class=\"dt-body-left\">गोलभेडा ठूलो(नेपाली) <span class=\"text-muted\">(के.जी.)</span></td><td>रू ९०</td><td>रू १००</td><td>रू ९६.६७</td></tr>,\n",
              " <tr><td class=\"dt-body-left\">गोलभेडा सानो(लोकल) <span class=\"text-muted\">(के.जी.)</span></td><td>रू ३०</td><td>रू ४०</td><td>रू ३५.००</td></tr>,\n",
              " <tr><td class=\"dt-body-left\">गोलभेडा सानो(टनेल) <span class=\"text-muted\">(के जी)</span></td><td>रू ४२</td><td>रू ५०</td><td>रू ४६.००</td></tr>,\n",
              " <tr><td class=\"dt-body-left\">आलु रातो <span class=\"text-muted\">(के.जी.)</span></td><td>रू ६५</td><td>रू ७०</td><td>रू ६८.००</td></tr>,\n",
              " <tr><td class=\"dt-body-left\">आलु रातो(भारतीय) <span class=\"text-muted\">(के जी)</span></td><td>रू ५५</td><td>रू ५८</td><td>रू ५७.००</td></tr>,\n",
              " <tr><td class=\"dt-body-left\">आलु रातो(मुडे) <span class=\"text-muted\">(केजी)</span></td><td>रू ६०</td><td>रू ६३</td><td>रू ६१.४०</td></tr>,\n",
              " <tr><td class=\"dt-body-left\">आलु सेतो <span class=\"text-muted\">(के.जी.)</span></td><td>रू ५४</td><td>रू ५५</td><td>रू ५४.५०</td></tr>,\n",
              " <tr><td class=\"dt-body-left\">प्याज सुकेको (भारतीय) <span class=\"text-muted\">(के.जी.)</span></td><td>रू ९५</td><td>रू १००</td><td>रू ९८.००</td></tr>,\n",
              " <tr><td class=\"dt-body-left\">गाजर(लोकल) <span class=\"text-muted\">(के.जी.)</span></td><td>रू १००</td><td>रू ११०</td><td>रू १०६.००</td></tr>,\n",
              " <tr><td class=\"dt-body-left\">गाजर(तराई) <span class=\"text-muted\">(केजी)</span></td><td>रू ८०</td><td>रू ९०</td><td>रू ८५.००</td></tr>,\n",
              " <tr><td class=\"dt-body-left\">बन्दा(लोकल) <span class=\"text-muted\">(के.जी.)</span></td><td>रू ६०</td><td>रू ७०</td><td>रू ६५.००</td></tr>,\n",
              " <tr><td class=\"dt-body-left\">काउली स्थानिय <span class=\"text-muted\">(के.जी.)</span></td><td>रू ७०</td><td>रू ८०</td><td>रू ७६.६७</td></tr>,\n",
              " <tr><td class=\"dt-body-left\">स्थानीय काउली(ज्यापु) <span class=\"text-muted\">(केजी)</span></td><td>रू ९०</td><td>रू १००</td><td>रू ९६.६७</td></tr>,\n",
              " <tr><td class=\"dt-body-left\">मूला रातो <span class=\"text-muted\">(के.जी.)</span></td><td>रू ३०</td><td>रू ४०</td><td>रू ३५.००</td></tr>,\n",
              " <tr><td class=\"dt-body-left\">मूला सेतो(लोकल) <span class=\"text-muted\">(के.जी.)</span></td><td>रू १५</td><td>रू २०</td><td>रू १८.३३</td></tr>,\n",
              " <tr><td class=\"dt-body-left\">सेतो मूला(हाइब्रीड) <span class=\"text-muted\">(केजी)</span></td><td>रू २०</td><td>रू ३०</td><td>रू २५.००</td></tr>,\n",
              " <tr><td class=\"dt-body-left\">भन्टा लाम्चो <span class=\"text-muted\">(के.जी.)</span></td><td>रू ३०</td><td>रू ४०</td><td>रू ३५.००</td></tr>,\n",
              " <tr><td class=\"dt-body-left\">भन्टा डल्लो <span class=\"text-muted\">(के.जी.)</span></td><td>रू ४०</td><td>रू ५०</td><td>रू ४५.००</td></tr>,\n",
              " <tr><td class=\"dt-body-left\">बोडी(तने) <span class=\"text-muted\">(के.जी.)</span></td><td>रू ६०</td><td>रू ८०</td><td>रू ६८.००</td></tr>,\n",
              " <tr><td class=\"dt-body-left\">मकै बोडी <span class=\"text-muted\">(केजी)</span></td><td>रू ७०</td><td>रू ८०</td><td>रू ७६.६७</td></tr>,\n",
              " <tr><td class=\"dt-body-left\">घिउ सिमी(लोकल) <span class=\"text-muted\">(के.जी.)</span></td><td>रू ६०</td><td>रू ८०</td><td>रू ७०.००</td></tr>,\n",
              " <tr><td class=\"dt-body-left\">घिउ सिमी(हाइब्रीड) <span class=\"text-muted\">(केजी)</span></td><td>रू ६०</td><td>रू ८०</td><td>रू ७०.००</td></tr>,\n",
              " <tr><td class=\"dt-body-left\">घिउ सिमी(राजमा) <span class=\"text-muted\">(केजी)</span></td><td>रू १४०</td><td>रू १६०</td><td>रू १५०.००</td></tr>,\n",
              " <tr><td class=\"dt-body-left\">टाटे सिमी <span class=\"text-muted\">(के.जी.)</span></td><td>रू ८०</td><td>रू ९०</td><td>रू ८६.६७</td></tr>,\n",
              " <tr><td class=\"dt-body-left\">भटमासकोशा <span class=\"text-muted\">(के.जी.)</span></td><td>रू १२०</td><td>रू १३०</td><td>रू १२५.००</td></tr>,\n",
              " <tr><td class=\"dt-body-left\">तितो करेला <span class=\"text-muted\">(के.जी.)</span></td><td>रू ३०</td><td>रू ४०</td><td>रू ३५.००</td></tr>,\n",
              " <tr><td class=\"dt-body-left\">लौका <span class=\"text-muted\">(के.जी.)</span></td><td>रू ४०</td><td>रू ५०</td><td>रू ४६.००</td></tr>,\n",
              " <tr><td class=\"dt-body-left\">परवर(लोकल) <span class=\"text-muted\">(के.जी.)</span></td><td>रू ६०</td><td>रू ७०</td><td>रू ६६.००</td></tr>,\n",
              " <tr><td class=\"dt-body-left\">परवर(तराई) <span class=\"text-muted\">(केजी)</span></td><td>रू ६०</td><td>रू ७०</td><td>रू ६५.००</td></tr>,\n",
              " <tr><td class=\"dt-body-left\">चिचिण्डो <span class=\"text-muted\">(के.जी.)</span></td><td>रू ३०</td><td>रू ४०</td><td>रू ३५.००</td></tr>,\n",
              " <tr><td class=\"dt-body-left\">घिरौला <span class=\"text-muted\">(के.जी.)</span></td><td>रू ४०</td><td>रू ५०</td><td>रू ४५.००</td></tr>,\n",
              " <tr><td class=\"dt-body-left\">झिगूनी <span class=\"text-muted\">(के.जी.)</span></td><td>रू ५०</td><td>रू ६०</td><td>रू ५५.००</td></tr>,\n",
              " <tr><td class=\"dt-body-left\">फर्सी पाकेको <span class=\"text-muted\">(के.जी.)</span></td><td>रू ५०</td><td>रू ६०</td><td>रू ५५.००</td></tr>,\n",
              " <tr><td class=\"dt-body-left\">हरियो फर्सी(डल्लो) <span class=\"text-muted\">(केजी)</span></td><td>रू ५०</td><td>रू ६०</td><td>रू ५५.००</td></tr>,\n",
              " <tr><td class=\"dt-body-left\">भिण्डी <span class=\"text-muted\">(के.जी.)</span></td><td>रू २५</td><td>रू ३५</td><td>रू २९.००</td></tr>,\n",
              " <tr><td class=\"dt-body-left\">पिंडालू <span class=\"text-muted\">(के.जी.)</span></td><td>रू ८०</td><td>रू ९०</td><td>रू ८६.६७</td></tr>,\n",
              " <tr><td class=\"dt-body-left\">स्कूस <span class=\"text-muted\">(के.जी.)</span></td><td>रू ३०</td><td>रू ३५</td><td>रू ३३.००</td></tr>,\n",
              " <tr><td class=\"dt-body-left\">रायो साग <span class=\"text-muted\">(के.जी.)</span></td><td>रू ९०</td><td>रू १००</td><td>रू ९६.६७</td></tr>,\n",
              " <tr><td class=\"dt-body-left\">तोरीको साग <span class=\"text-muted\">(के.जी.)</span></td><td>रू ५०</td><td>रू ६०</td><td>रू ५५.००</td></tr>,\n",
              " <tr><td class=\"dt-body-left\">प्याज हरियो <span class=\"text-muted\">(के.जी.)</span></td><td>रू २८०</td><td>रू ३००</td><td>रू २९०.००</td></tr>,\n",
              " <tr><td class=\"dt-body-left\">च्याउ(कन्य) <span class=\"text-muted\">(के.जी.)</span></td><td>रू १४०</td><td>रू १८०</td><td>रू १५६.००</td></tr>,\n",
              " <tr><td class=\"dt-body-left\">च्याउ(डल्ले) <span class=\"text-muted\">(के जी)</span></td><td>रू ३२०</td><td>रू ३५०</td><td>रू ३३२.००</td></tr>,\n",
              " <tr><td class=\"dt-body-left\">कुरीलो <span class=\"text-muted\">(के.जी.)</span></td><td>रू २००</td><td>रू ३००</td><td>रू २५०.००</td></tr>,\n",
              " <tr><td class=\"dt-body-left\">न्यूरो <span class=\"text-muted\">(के.जी.)</span></td><td>रू ८०</td><td>रू ९०</td><td>रू ८६.६७</td></tr>,\n",
              " <tr><td class=\"dt-body-left\">ब्रोकाउली <span class=\"text-muted\">(के.जी.)</span></td><td>रू १६०</td><td>रू २००</td><td>रू १८०.००</td></tr>,\n",
              " <tr><td class=\"dt-body-left\">चुकुन्दर <span class=\"text-muted\">(के.जी.)</span></td><td>रू ७०</td><td>रू ८०</td><td>रू ७६.६७</td></tr>,\n",
              " <tr><td class=\"dt-body-left\">सजिवन <span class=\"text-muted\">(के.जी.)</span></td><td>रू २००</td><td>रू २५०</td><td>रू २२५.००</td></tr>,\n",
              " <tr><td class=\"dt-body-left\">रातो बन्दा <span class=\"text-muted\">(के.जी.)</span></td><td>रू ११०</td><td>रू १२०</td><td>रू ११६.६७</td></tr>,\n",
              " <tr><td class=\"dt-body-left\">जिरीको साग <span class=\"text-muted\">(के.जी.)</span></td><td>रू ९०</td><td>रू १००</td><td>रू ९६.६७</td></tr>,\n",
              " <tr><td class=\"dt-body-left\">सेलरी <span class=\"text-muted\">(के.जी.)</span></td><td>रू ३५०</td><td>रू ४००</td><td>रू ३७५.००</td></tr>,\n",
              " <tr><td class=\"dt-body-left\">पार्सले <span class=\"text-muted\">(के.जी.)</span></td><td>रू १२००</td><td>रू १३००</td><td>रू १,२५०.००</td></tr>,\n",
              " <tr><td class=\"dt-body-left\">पुदीना <span class=\"text-muted\">(के.जी.)</span></td><td>रू ५००</td><td>रू ६००</td><td>रू ५५०.००</td></tr>,\n",
              " <tr><td class=\"dt-body-left\">गान्टे मूला <span class=\"text-muted\">(के.जी.)</span></td><td>रू ८०</td><td>रू ९०</td><td>रू ८५.००</td></tr>,\n",
              " <tr><td class=\"dt-body-left\">इमली <span class=\"text-muted\">(के.जी.)</span></td><td>रू १४०</td><td>रू १५०</td><td>रू १४६.६७</td></tr>,\n",
              " <tr><td class=\"dt-body-left\">तामा <span class=\"text-muted\">(के.जी.)</span></td><td>रू १००</td><td>रू ११०</td><td>रू १०५.००</td></tr>,\n",
              " <tr><td class=\"dt-body-left\">तोफु <span class=\"text-muted\">(के.जी.)</span></td><td>रू १४०</td><td>रू १५०</td><td>रू १४३.३३</td></tr>,\n",
              " <tr><td class=\"dt-body-left\">गुन्दुक <span class=\"text-muted\">(के.जी.)</span></td><td>रू २५०</td><td>रू ३००</td><td>रू २७५.००</td></tr>,\n",
              " <tr><td class=\"dt-body-left\">स्याउ(फूजी) <span class=\"text-muted\">(के जी)</span></td><td>रू ३००</td><td>रू ३२०</td><td>रू ३१०.००</td></tr>,\n",
              " <tr><td class=\"dt-body-left\">केरा <span class=\"text-muted\">(दर्जन)</span></td><td>रू १३०</td><td>रू १५०</td><td>रू १४०.००</td></tr>,\n",
              " <tr><td class=\"dt-body-left\">कागती <span class=\"text-muted\">(के.जी.)</span></td><td>रू २३०</td><td>रू २६०</td><td>रू २४६.००</td></tr>,\n",
              " <tr><td class=\"dt-body-left\">अनार <span class=\"text-muted\">(के.जी.)</span></td><td>रू ३८०</td><td>रू ४००</td><td>रू ३९०.००</td></tr>,\n",
              " <tr><td class=\"dt-body-left\">अंगुर(कालो) <span class=\"text-muted\">(केजी)</span></td><td>रू ४००</td><td>रू ४५०</td><td>रू ४२५.००</td></tr>,\n",
              " <tr><td class=\"dt-body-left\">तरबुजा(हरियो) <span class=\"text-muted\">(के.जी.)</span></td><td>रू ५०</td><td>रू ६०</td><td>रू ५५.००</td></tr>,\n",
              " <tr><td class=\"dt-body-left\">मौसम <span class=\"text-muted\">(के.जी.)</span></td><td>रू १३०</td><td>रू १४०</td><td>रू १३६.६७</td></tr>,\n",
              " <tr><td class=\"dt-body-left\">जुनार <span class=\"text-muted\">(के.जी.)</span></td><td>रू २२०</td><td>रू २५०</td><td>रू २३५.००</td></tr>,\n",
              " <tr><td class=\"dt-body-left\">भुई कटहर <span class=\"text-muted\">(प्रति गोटा)</span></td><td>रू १६०</td><td>रू १८०</td><td>रू १७०.००</td></tr>,\n",
              " <tr><td class=\"dt-body-left\">काक्रो(लोकल) <span class=\"text-muted\">(के.जी.)</span></td><td>रू ५०</td><td>रू ६०</td><td>रू ५५.००</td></tr>,\n",
              " <tr><td class=\"dt-body-left\">काक्रो(हाइब्रीड) <span class=\"text-muted\">(के जी)</span></td><td>रू २५</td><td>रू ३०</td><td>रू २८.३३</td></tr>,\n",
              " <tr><td class=\"dt-body-left\">रुख कटहर <span class=\"text-muted\">(के.जी.)</span></td><td>रू ८०</td><td>रू ९०</td><td>रू ८६.६७</td></tr>,\n",
              " <tr><td class=\"dt-body-left\">नासपाती(लोकल) <span class=\"text-muted\">(के.जी.)</span></td><td>रू ९०</td><td>रू १००</td><td>रू ९६.६७</td></tr>,\n",
              " <tr><td class=\"dt-body-left\">नासपाती(चाइनिज) <span class=\"text-muted\">(केजी)</span></td><td>रू २८०</td><td>रू ३००</td><td>रू २९०.००</td></tr>,\n",
              " <tr><td class=\"dt-body-left\">मेवा(भारतीय) <span class=\"text-muted\">(केजी)</span></td><td>रू ८०</td><td>रू ९०</td><td>रू ८६.६७</td></tr>,\n",
              " <tr><td class=\"dt-body-left\">लप्सी <span class=\"text-muted\">(के.जी.)</span></td><td>रू ६०</td><td>रू ७०</td><td>रू ६५.००</td></tr>,\n",
              " <tr><td class=\"dt-body-left\">किवि <span class=\"text-muted\">(केजी)</span></td><td>रू ४५०</td><td>रू ५००</td><td>रू ४७५.००</td></tr>,\n",
              " <tr><td class=\"dt-body-left\">शरीफा <span class=\"text-muted\">(के‍.जी)</span></td><td>रू २००</td><td>रू २५०</td><td>रू २२५.००</td></tr>,\n",
              " <tr><td class=\"dt-body-left\">आभोकाडो <span class=\"text-muted\">(के.जी)</span></td><td>रू २५०</td><td>रू ३००</td><td>रू २७५.००</td></tr>,\n",
              " <tr><td class=\"dt-body-left\">अमला <span class=\"text-muted\">(के.जी)</span></td><td>रू १५०</td><td>रू २००</td><td>रू १७५.००</td></tr>,\n",
              " <tr><td class=\"dt-body-left\">अदुवा <span class=\"text-muted\">(के.जी.)</span></td><td>रू १८०</td><td>रू २००</td><td>रू १९३.३३</td></tr>,\n",
              " <tr><td class=\"dt-body-left\">खु्र्सानी सुकेको <span class=\"text-muted\">(के.जी.)</span></td><td>रू ४००</td><td>रू ४५०</td><td>रू ४२५.००</td></tr>,\n",
              " <tr><td class=\"dt-body-left\">खु्र्सानी हरियो <span class=\"text-muted\">(के.जी.)</span></td><td>रू ८०</td><td>रू १००</td><td>रू ९०.००</td></tr>,\n",
              " <tr><td class=\"dt-body-left\">खुर्सानी हरियो(बुलेट) <span class=\"text-muted\">(के जी)</span></td><td>रू ११०</td><td>रू १३०</td><td>रू १२०.००</td></tr>,\n",
              " <tr><td class=\"dt-body-left\">खुर्सानी हरियो(माछे) <span class=\"text-muted\">(के जी)</span></td><td>रू ८०</td><td>रू ९०</td><td>रू ८६.६७</td></tr>,\n",
              " <tr><td class=\"dt-body-left\">खुर्सानी हरियो(अकबरे) <span class=\"text-muted\">(के जी)</span></td><td>रू ३००</td><td>रू ४००</td><td>रू ३५०.००</td></tr>,\n",
              " <tr><td class=\"dt-body-left\">भेडे खु्र्सानी <span class=\"text-muted\">(के.जी.)</span></td><td>रू ७०</td><td>रू ८०</td><td>रू ७६.००</td></tr>,\n",
              " <tr><td class=\"dt-body-left\">लसुन हरियो <span class=\"text-muted\">(के.जी.)</span></td><td>रू १५०</td><td>रू २००</td><td>रू १७५.००</td></tr>,\n",
              " <tr><td class=\"dt-body-left\">हरियो धनिया <span class=\"text-muted\">(के.जी.)</span></td><td>रू २५०</td><td>रू ३५०</td><td>रू ३००.००</td></tr>,\n",
              " <tr><td class=\"dt-body-left\">लसुन सुकेको चाइनिज <span class=\"text-muted\">(के.जी.)</span></td><td>रू २५०</td><td>रू २६०</td><td>रू २५६.००</td></tr>,\n",
              " <tr><td class=\"dt-body-left\">लसुन सुकेको नेपाली <span class=\"text-muted\">(के.जी.)</span></td><td>रू २२०</td><td>रू २३०</td><td>रू २२६.६७</td></tr>,\n",
              " <tr><td class=\"dt-body-left\">छ्यापी सुकेको <span class=\"text-muted\">(के.जी.)</span></td><td>रू १५०</td><td>रू १६०</td><td>रू १५५.००</td></tr>,\n",
              " <tr><td class=\"dt-body-left\">छ्यापी हरियो <span class=\"text-muted\">(के.जी.)</span></td><td>रू २२०</td><td>रू २५०</td><td>रू २३५.००</td></tr>,\n",
              " <tr><td class=\"dt-body-left\">ताजा माछा(रहु) <span class=\"text-muted\">(के जी)</span></td><td>रू ३४०</td><td>रू ३५०</td><td>रू ३४५.००</td></tr>,\n",
              " <tr><td class=\"dt-body-left\">ताजा माछा(बचुवा) <span class=\"text-muted\">(के जी)</span></td><td>रू २५०</td><td>रू २६०</td><td>रू २५५.००</td></tr>,\n",
              " <tr><td class=\"dt-body-left\">ताजा माछा(छडी) <span class=\"text-muted\">(के जी)</span></td><td>रू २४०</td><td>रू २५०</td><td>रू २४६.६७</td></tr>,\n",
              " <tr><td class=\"dt-body-left\">राजा च्याउ <span class=\"text-muted\">(के.जी.)</span></td><td>रू २८०</td><td>रू ३००</td><td>रू २९३.३३</td></tr>]"
            ]
          },
          "execution_count": 9,
          "metadata": {},
          "output_type": "execute_result"
        }
      ],
      "source": [
        "veg"
      ]
    },
    {
      "cell_type": "code",
      "execution_count": 10,
      "metadata": {
        "colab": {
          "base_uri": "https://localhost:8080/"
        },
        "id": "C6BGfm3S-1CR",
        "outputId": "c108a416-f45c-49cc-aa68-19b152609144"
      },
      "outputs": [
        {
          "name": "stdout",
          "output_type": "stream",
          "text": [
            "Commodity: गोलभेडा ठूलो(नेपाली)(के.जी.), Price: रू ९०\n",
            "Commodity: गोलभेडा सानो(लोकल)(के.जी.), Price: रू ३०\n",
            "Commodity: गोलभेडा सानो(टनेल)(के जी), Price: रू ४२\n",
            "Commodity: आलु रातो(के.जी.), Price: रू ६५\n",
            "Commodity: आलु रातो(भारतीय)(के जी), Price: रू ५५\n",
            "Commodity: आलु रातो(मुडे)(केजी), Price: रू ६०\n",
            "Commodity: आलु सेतो(के.जी.), Price: रू ५४\n",
            "Commodity: प्याज सुकेको (भारतीय)(के.जी.), Price: रू ९५\n",
            "Commodity: गाजर(लोकल)(के.जी.), Price: रू १००\n",
            "Commodity: गाजर(तराई)(केजी), Price: रू ८०\n",
            "Commodity: बन्दा(लोकल)(के.जी.), Price: रू ६०\n",
            "Commodity: काउली स्थानिय(के.जी.), Price: रू ७०\n",
            "Commodity: स्थानीय काउली(ज्यापु)(केजी), Price: रू ९०\n",
            "Commodity: मूला रातो(के.जी.), Price: रू ३०\n",
            "Commodity: मूला सेतो(लोकल)(के.जी.), Price: रू १५\n",
            "Commodity: सेतो मूला(हाइब्रीड)(केजी), Price: रू २०\n",
            "Commodity: भन्टा लाम्चो(के.जी.), Price: रू ३०\n",
            "Commodity: भन्टा डल्लो(के.जी.), Price: रू ४०\n",
            "Commodity: बोडी(तने)(के.जी.), Price: रू ६०\n",
            "Commodity: मकै बोडी(केजी), Price: रू ७०\n",
            "Commodity: घिउ सिमी(लोकल)(के.जी.), Price: रू ६०\n",
            "Commodity: घिउ सिमी(हाइब्रीड)(केजी), Price: रू ६०\n",
            "Commodity: घिउ सिमी(राजमा)(केजी), Price: रू १४०\n",
            "Commodity: टाटे सिमी(के.जी.), Price: रू ८०\n",
            "Commodity: भटमासकोशा(के.जी.), Price: रू १२०\n",
            "Commodity: तितो करेला(के.जी.), Price: रू ३०\n",
            "Commodity: लौका(के.जी.), Price: रू ४०\n",
            "Commodity: परवर(लोकल)(के.जी.), Price: रू ६०\n",
            "Commodity: परवर(तराई)(केजी), Price: रू ६०\n",
            "Commodity: चिचिण्डो(के.जी.), Price: रू ३०\n",
            "Commodity: घिरौला(के.जी.), Price: रू ४०\n",
            "Commodity: झिगूनी(के.जी.), Price: रू ५०\n",
            "Commodity: फर्सी पाकेको(के.जी.), Price: रू ५०\n",
            "Commodity: हरियो फर्सी(डल्लो)(केजी), Price: रू ५०\n",
            "Commodity: भिण्डी(के.जी.), Price: रू २५\n",
            "Commodity: पिंडालू(के.जी.), Price: रू ८०\n",
            "Commodity: स्कूस(के.जी.), Price: रू ३०\n",
            "Commodity: रायो साग(के.जी.), Price: रू ९०\n",
            "Commodity: तोरीको साग(के.जी.), Price: रू ५०\n",
            "Commodity: प्याज हरियो(के.जी.), Price: रू २८०\n",
            "Commodity: च्याउ(कन्य)(के.जी.), Price: रू १४०\n",
            "Commodity: च्याउ(डल्ले)(के जी), Price: रू ३२०\n",
            "Commodity: कुरीलो(के.जी.), Price: रू २००\n",
            "Commodity: न्यूरो(के.जी.), Price: रू ८०\n",
            "Commodity: ब्रोकाउली(के.जी.), Price: रू १६०\n",
            "Commodity: चुकुन्दर(के.जी.), Price: रू ७०\n",
            "Commodity: सजिवन(के.जी.), Price: रू २००\n",
            "Commodity: रातो बन्दा(के.जी.), Price: रू ११०\n",
            "Commodity: जिरीको साग(के.जी.), Price: रू ९०\n",
            "Commodity: सेलरी(के.जी.), Price: रू ३५०\n",
            "Commodity: पार्सले(के.जी.), Price: रू १२००\n",
            "Commodity: पुदीना(के.जी.), Price: रू ५००\n",
            "Commodity: गान्टे मूला(के.जी.), Price: रू ८०\n",
            "Commodity: इमली(के.जी.), Price: रू १४०\n",
            "Commodity: तामा(के.जी.), Price: रू १००\n",
            "Commodity: तोफु(के.जी.), Price: रू १४०\n",
            "Commodity: गुन्दुक(के.जी.), Price: रू २५०\n",
            "Commodity: स्याउ(फूजी)(के जी), Price: रू ३००\n",
            "Commodity: केरा(दर्जन), Price: रू १३०\n",
            "Commodity: कागती(के.जी.), Price: रू २३०\n",
            "Commodity: अनार(के.जी.), Price: रू ३८०\n",
            "Commodity: अंगुर(कालो)(केजी), Price: रू ४००\n",
            "Commodity: तरबुजा(हरियो)(के.जी.), Price: रू ५०\n",
            "Commodity: मौसम(के.जी.), Price: रू १३०\n",
            "Commodity: जुनार(के.जी.), Price: रू २२०\n",
            "Commodity: भुई कटहर(प्रति गोटा), Price: रू १६०\n",
            "Commodity: काक्रो(लोकल)(के.जी.), Price: रू ५०\n",
            "Commodity: काक्रो(हाइब्रीड)(के जी), Price: रू २५\n",
            "Commodity: रुख कटहर(के.जी.), Price: रू ८०\n",
            "Commodity: नासपाती(लोकल)(के.जी.), Price: रू ९०\n",
            "Commodity: नासपाती(चाइनिज)(केजी), Price: रू २८०\n",
            "Commodity: मेवा(भारतीय)(केजी), Price: रू ८०\n",
            "Commodity: लप्सी(के.जी.), Price: रू ६०\n",
            "Commodity: किवि(केजी), Price: रू ४५०\n",
            "Commodity: शरीफा(के‍.जी), Price: रू २००\n",
            "Commodity: आभोकाडो(के.जी), Price: रू २५०\n",
            "Commodity: अमला(के.जी), Price: रू १५०\n",
            "Commodity: अदुवा(के.जी.), Price: रू १८०\n",
            "Commodity: खु्र्सानी सुकेको(के.जी.), Price: रू ४००\n",
            "Commodity: खु्र्सानी हरियो(के.जी.), Price: रू ८०\n",
            "Commodity: खुर्सानी हरियो(बुलेट)(के जी), Price: रू ११०\n",
            "Commodity: खुर्सानी हरियो(माछे)(के जी), Price: रू ८०\n",
            "Commodity: खुर्सानी हरियो(अकबरे)(के जी), Price: रू ३००\n",
            "Commodity: भेडे खु्र्सानी(के.जी.), Price: रू ७०\n",
            "Commodity: लसुन हरियो(के.जी.), Price: रू १५०\n",
            "Commodity: हरियो धनिया(के.जी.), Price: रू २५०\n",
            "Commodity: लसुन सुकेको चाइनिज(के.जी.), Price: रू २५०\n",
            "Commodity: लसुन सुकेको नेपाली(के.जी.), Price: रू २२०\n",
            "Commodity: छ्यापी सुकेको(के.जी.), Price: रू १५०\n",
            "Commodity: छ्यापी हरियो(के.जी.), Price: रू २२०\n",
            "Commodity: ताजा माछा(रहु)(के जी), Price: रू ३४०\n",
            "Commodity: ताजा माछा(बचुवा)(के जी), Price: रू २५०\n",
            "Commodity: ताजा माछा(छडी)(के जी), Price: रू २४०\n",
            "Commodity: राजा च्याउ(के.जी.), Price: रू २८०\n"
          ]
        }
      ],
      "source": [
        "for i in veg:\n",
        "    columns = i.find_all('td')\n",
        "    commodity = columns[0].get_text(strip=True)\n",
        "    price = columns[1].get_text(strip=True)\n",
        "\n",
        "    # Print or store the extracted data\n",
        "    print(f\"Commodity: {commodity}, Price: {price}\")"
      ]
    },
    {
      "cell_type": "code",
      "execution_count": null,
      "metadata": {
        "id": "pHYWcJOa-pHd"
      },
      "outputs": [],
      "source": []
    },
    {
      "cell_type": "code",
      "execution_count": null,
      "metadata": {},
      "outputs": [],
      "source": []
    },
    {
      "cell_type": "code",
      "execution_count": null,
      "metadata": {},
      "outputs": [],
      "source": []
    },
    {
      "cell_type": "code",
      "execution_count": null,
      "metadata": {},
      "outputs": [],
      "source": []
    },
    {
      "cell_type": "code",
      "execution_count": null,
      "metadata": {},
      "outputs": [],
      "source": []
    }
  ],
  "metadata": {
    "colab": {
      "provenance": []
    },
    "kernelspec": {
      "display_name": "Python 3",
      "name": "python3"
    },
    "language_info": {
      "codemirror_mode": {
        "name": "ipython",
        "version": 3
      },
      "file_extension": ".py",
      "mimetype": "text/x-python",
      "name": "python",
      "nbconvert_exporter": "python",
      "pygments_lexer": "ipython3",
      "version": "undefined.undefined.undefined"
    }
  },
  "nbformat": 4,
  "nbformat_minor": 0
}
